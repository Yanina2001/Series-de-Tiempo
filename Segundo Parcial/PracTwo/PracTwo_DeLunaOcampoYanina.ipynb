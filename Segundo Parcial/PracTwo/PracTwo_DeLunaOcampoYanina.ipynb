{
 "cells": [
  {
   "cell_type": "code",
   "execution_count": 1,
   "id": "3f012271",
   "metadata": {},
   "outputs": [],
   "source": [
    "import numpy as np\n",
    "from typing import Dict\n",
    "import sklearn\n",
    "from sklearn.linear_model import LinearRegression"
   ]
  },
  {
   "cell_type": "code",
   "execution_count": 2,
   "id": "2a067a8b",
   "metadata": {},
   "outputs": [],
   "source": [
    "def autocovariance (\n",
    "        time_serie: np.array,\n",
    "        lag: int = 1\n",
    "    ) -> float:\n",
    "    \n",
    "    \"\"\"\n",
    "    Computes the unbias autocovariance for a given lag.\n",
    "    Arguments:\n",
    "        time_serie: A one-dimensional numpy array containing the time serie.\n",
    "        lag: An integer indicating the lag autocovariance computing for.\n",
    "    Returns:\n",
    "        The unbias sampled autocovariance.\n",
    "    \"\"\"\n",
    "\n",
    "    mean = np.mean(time_serie)\n",
    "    autocovariance = 0\n",
    "    \n",
    "    for i in np.arange(0, len(time_serie)-lag):\n",
    "        autocovariance += (time_serie[i]-mean)*(time_serie[i+lag]-mean)\n",
    "    return (1/(len(time_serie)))*autocovariance"
   ]
  },
  {
   "cell_type": "code",
   "execution_count": 3,
   "id": "d9b2607d",
   "metadata": {},
   "outputs": [],
   "source": [
    "def detrending (\n",
    "        time_serie: np.array\n",
    "    ) -> Dict[str, float]:\n",
    "\n",
    "    \"\"\"\n",
    "    Computes a linear regression respect to time to approximate the trend of a time serie.\n",
    "    Arguments:\n",
    "        time_serie: A one-dimensional numpy array containing the time serie.\n",
    "    Returns:\n",
    "        The bias and weight of the fitted model.\n",
    "    \"\"\"\n",
    "    \n",
    "    model = LinearRegression()\n",
    "    x = np.arange(0, len(time_serie))\n",
    "    x = x.reshape(-1,1)\n",
    "    model.fit(x, time_serie)\n",
    "    bias = model.intercept_\n",
    "    weight = model.coef_[0]\n",
    "\n",
    "    return {\n",
    "        \"bias\": model.intercept_,\n",
    "        \"weight\": model.coef_[0]\n",
    "    }"
   ]
  },
  {
   "cell_type": "code",
   "execution_count": 4,
   "id": "84c49294",
   "metadata": {},
   "outputs": [],
   "source": [
    "def differencing (\n",
    "    time_series: np.array\n",
    "    ) -> np.array:\n",
    "\n",
    "    \"\"\"\n",
    "    Removes the trending of a time serie by differencing method\n",
    "    Arguments:\n",
    "        time_serie: A one-dimensional numpy array containing the time serie.\n",
    "    Returns:\n",
    "        The detrended time serie.\n",
    "    \"\"\"\n",
    "\n",
    "    return (np.concatenate((time_series[1], ([time_series[i+1]-time_series[i] for i in range(len(time_series)-1)])), axis=None))\n"
   ]
  }
 ],
 "metadata": {
  "kernelspec": {
   "display_name": "Python 3 (ipykernel)",
   "language": "python",
   "name": "python3"
  },
  "language_info": {
   "codemirror_mode": {
    "name": "ipython",
    "version": 3
   },
   "file_extension": ".py",
   "mimetype": "text/x-python",
   "name": "python",
   "nbconvert_exporter": "python",
   "pygments_lexer": "ipython3",
   "version": "3.9.12"
  }
 },
 "nbformat": 4,
 "nbformat_minor": 5
}
