{
 "cells": [
  {
   "cell_type": "code",
   "execution_count": 2,
   "id": "14b26065",
   "metadata": {},
   "outputs": [
    {
     "name": "stdout",
     "output_type": "stream",
     "text": [
      "DATOS: \n"
     ]
    }
   ],
   "source": [
    "print(\"DATOS: \")"
   ]
  },
  {
   "cell_type": "markdown",
   "id": "68ad09b6",
   "metadata": {},
   "source": [
    "##### Instituto Politécnico Nacional\n",
    "##### Escuela Superior de Cómputo\n",
    "##### De Luna Ocampo Yanina\n",
    "##### Uriel"
   ]
  },
  {
   "cell_type": "code",
   "execution_count": 1,
   "id": "13a4b9aa",
   "metadata": {},
   "outputs": [
    {
     "name": "stdout",
     "output_type": "stream",
     "text": [
      "-----------------------------------\n"
     ]
    }
   ],
   "source": [
    "print(\"-----------------------------------\")"
   ]
  },
  {
   "cell_type": "markdown",
   "id": "cfd458f7",
   "metadata": {},
   "source": [
    "### Proyecto Final"
   ]
  },
  {
   "cell_type": "markdown",
   "id": "330d0fe5",
   "metadata": {},
   "source": [
    "#### Información completa del dataset"
   ]
  },
  {
   "cell_type": "code",
   "execution_count": 16,
   "id": "cf2464d2",
   "metadata": {},
   "outputs": [
    {
     "name": "stdout",
     "output_type": "stream",
     "text": [
      "Análisis del conjunto de datos de Daily Climate\n",
      "\n",
      "Información básica: \n",
      "\tRepositorio obtenido de: Kaggle\n",
      "\tLink del conjunto de datos: https://www.kaggle.com/datasets/sumanthvrao/daily-climate-data\n",
      "\tAutores: sumanthvrao\n"
     ]
    }
   ],
   "source": [
    "print(\"Análisis del conjunto de datos de Daily Climate\")\n",
    "\n",
    "print(\"\\nInformación básica: \")\n",
    "print(\"\\tRepositorio obtenido de: Kaggle\")\n",
    "print(\"\\tLink del conjunto de datos: https://www.kaggle.com/datasets/sumanthvrao/daily-climate-data\")\n",
    "print(\"\\tAutores: sumanthvrao\")"
   ]
  },
  {
   "cell_type": "code",
   "execution_count": null,
   "id": "9e243ae5",
   "metadata": {},
   "outputs": [],
   "source": [
    "print(\"Información relevante: \")\n",
    "print(\"1. Los datos de este dataset fueron recolectados por Weather Undergroud API.\")\n"
   ]
  },
  {
   "cell_type": "code",
   "execution_count": 17,
   "id": "7c54dbaa",
   "metadata": {},
   "outputs": [
    {
     "name": "stdout",
     "output_type": "stream",
     "text": [
      "Descripción de las varibables: \n",
      "\tdate -> fecha\n",
      "\tmeantemp -> temperatura promedio\n",
      "\thumidity -> humedad\n",
      "\twine_speed -> velocidad del viento\n",
      "\tmeanpreasure -> presión del tiempo promedio\n"
     ]
    }
   ],
   "source": [
    "print(\"Descripción de las varibables: \")\n",
    "print(\"\\tdate -> fecha\")\n",
    "print(\"\\tmeantemp -> temperatura promedio\")\n",
    "print(\"\\thumidity -> humedad\")\n",
    "print(\"\\twine_speed -> velocidad del viento\")\n",
    "print(\"\\tmeanpreasure -> presión del tiempo promedio\")"
   ]
  },
  {
   "cell_type": "code",
   "execution_count": 18,
   "id": "442e10c4",
   "metadata": {},
   "outputs": [
    {
     "name": "stdout",
     "output_type": "stream",
     "text": [
      "Diccionario de datos:\n"
     ]
    }
   ],
   "source": [
    "print(\"Diccionario de datos:\")"
   ]
  },
  {
   "cell_type": "markdown",
   "id": "30f094a6",
   "metadata": {},
   "source": [
    "#### Análisis"
   ]
  },
  {
   "cell_type": "code",
   "execution_count": null,
   "id": "cd0162a9",
   "metadata": {},
   "outputs": [],
   "source": [
    "# importing basic libraries and packages \n",
    "\n",
    "import numpy as np\n",
    "import pandas as pd\n",
    "import matplotlib.pyplot as plt\n",
    "import seaborn as sns\n",
    "%matplotlib inline\n",
    "sns.set()"
   ]
  }
 ],
 "metadata": {
  "kernelspec": {
   "display_name": "Python 3 (ipykernel)",
   "language": "python",
   "name": "python3"
  },
  "language_info": {
   "codemirror_mode": {
    "name": "ipython",
    "version": 3
   },
   "file_extension": ".py",
   "mimetype": "text/x-python",
   "name": "python",
   "nbconvert_exporter": "python",
   "pygments_lexer": "ipython3",
   "version": "3.9.12"
  }
 },
 "nbformat": 4,
 "nbformat_minor": 5
}
